{
 "cells": [
  {
   "cell_type": "code",
   "execution_count": 59,
   "metadata": {
    "ExecuteTime": {
     "end_time": "2021-02-09T01:06:08.789792Z",
     "start_time": "2021-02-09T01:06:08.779237Z"
    },
    "code_folding": []
   },
   "outputs": [],
   "source": [
    "import os\n",
    "from datetime import datetime\n",
    "import time\n",
    "\n",
    "from bs4 import BeautifulSoup\n",
    "import pandas as pd\n",
    "import requests\n",
    "import re\n",
    "\n",
    "\n",
    "# 크롤링\n",
    "def crawling(start_date, end_date):\n",
    "    \n",
    "    if(len(str(start_date)) != 8 and len(str(end_date)) != 8):\n",
    "        print(\"잘못된 날짜 입력\")\n",
    "        return\n",
    "    \n",
    "    # 섹션 별 아이디 설정\n",
    "    Section_ID = {\"Political\":\"100\", \"Economic\":\"101\", \"Society\":\"102\", \"Culture\":\"103\", \"International\":\"104\", \"Science\":\"105\"}\n",
    "    \n",
    "    # 날짜 별로 크롤링\n",
    "    for date in range(end_date - start_date + 1):        \n",
    "        \n",
    "        # 날짜 별 총 크롤링 시간 측정\n",
    "        total_crawling_time = 0 \n",
    "        date = start_date + date\n",
    "        print(\"Start Crawling :\", date)\n",
    "        \n",
    "        # 파일 저장 경로 설정\n",
    "        directory = \"C:\\\\Users\\\\cjy89\\\\NLP\\\\Project_news_crawling\\\\Naver\\\\\" + str(date)\n",
    "        if not os.path.isdir(directory):\n",
    "            os.makedirs(directory)\n",
    "        os.chdir(directory)\n",
    "    \n",
    "        # 섹션 별로 크롤링\n",
    "        for section in Section_ID:\n",
    "            \n",
    "            # 섹션 별 크롤링 시간 측정 start\n",
    "            start = time.time() \n",
    "            page = 0\n",
    "            News_DataFrame = pd.DataFrame()\n",
    "\n",
    "            # 서버에서 뉴스 데이터 가져오기\n",
    "            flag = True\n",
    "            while(flag):\n",
    "                page += 1\n",
    "                \n",
    "                url = \"https://news.naver.com/main/list.nhn?mode=LSD&mid=sec&listType=title&sid1=\" + Section_ID[section] + \"&date=\" + str(date) + \"&page=\" + str(page)\n",
    "                headers = {\"User-Agent\": \"Mozilla/5.0 (Windows NT 10.0; Win64; x64) AppleWebKit/537.36 (KHTML, like Gecko) Chrome/87.0.4280.88 Safari/537.36\"}\n",
    "                resp = requests.get(url, headers=headers)\n",
    "                soup = BeautifulSoup(resp.text, \"html.parser\")\n",
    "                news_box = soup.find_all(class_ = \"type02\")\n",
    "                \n",
    "                \n",
    "                con_page_news = 0\n",
    "                for box in range(len(news_box)):\n",
    "                    news = [i.get_text() for i in news_box[box].find_all(class_=\"nclicks(fls.list)\")]\n",
    "                    urls = [i['href'] for i in news_box[box].find_all(class_=\"nclicks(fls.list)\")]\n",
    "                    press = [i.get_text() for i in news_box[box].find_all(class_=\"writing\")]\n",
    "                    con_page_news += len(news)\n",
    "                    \n",
    "                    if(page != 1 and urls[0] == News_DataFrame.iloc[-pre_page_news, 1]):\n",
    "                        flag = False\n",
    "                        break\n",
    "        \n",
    "                    temp_df = pd.DataFrame({\"News\":news, \"Url\":urls, \"Press\":press})\n",
    "                    News_DataFrame = pd.concat([News_DataFrame, temp_df], axis=0, ignore_index=True)\n",
    "                    News_DataFrame.dropna(axis=0, inplace=True)\n",
    "                pre_page_news = con_page_news\n",
    "\n",
    "            # 섹션 별 크롤링 시간 측정 end\n",
    "            end = time.time()\n",
    "            total_crawling_time = total_crawling_time + (end - start)\n",
    "            print(\"Crawling\", date, section + \" News :\", end-start)\n",
    "            \n",
    "            # 데이터 프레임 csv 파일로 저장\n",
    "            title = section + \".csv\"\n",
    "            News_DataFrame.to_csv(title, sep=\",\", encoding='utf-8-sig', index=False)\n",
    "        \n",
    "        print(date, \"total time :\", total_crawling_time)\n",
    "        print(date, \"average Time :\", total_crawling_time / len(Section_ID))\n",
    "        print(\"────────────────────────────\")"
   ]
  },
  {
   "cell_type": "code",
   "execution_count": 60,
   "metadata": {
    "ExecuteTime": {
     "end_time": "2021-02-09T01:16:26.819007Z",
     "start_time": "2021-02-09T01:06:09.234956Z"
    }
   },
   "outputs": [
    {
     "name": "stdout",
     "output_type": "stream",
     "text": [
      "Start Crawling : 20210128\n",
      "Crawling 20210128 Political News : 21.105687618255615\n",
      "Crawling 20210128 Economic News : 50.68620252609253\n",
      "Crawling 20210128 Society News : 103.61551976203918\n",
      "Crawling 20210128 Culture News : 14.651144742965698\n",
      "Crawling 20210128 International News : 51.60530757904053\n",
      "Crawling 20210128 Science News : 9.947850227355957\n",
      "20210128 total time : 251.6117124557495\n",
      "20210128 average Time : 41.93528540929159\n",
      "────────────────────────────\n",
      "Start Crawling : 20210129\n",
      "Crawling 20210129 Political News : 20.130454540252686\n",
      "Crawling 20210129 Economic News : 59.637165546417236\n",
      "Crawling 20210129 Society News : 63.29189658164978\n",
      "Crawling 20210129 Culture News : 8.922179460525513\n",
      "Crawling 20210129 International News : 26.052513599395752\n",
      "Crawling 20210129 Science News : 6.4480140209198\n",
      "20210129 total time : 184.48222374916077\n",
      "20210129 average Time : 30.747037291526794\n",
      "────────────────────────────\n",
      "Start Crawling : 20210130\n",
      "Crawling 20210130 Political News : 5.311671257019043\n",
      "Crawling 20210130 Economic News : 5.629492282867432\n",
      "Crawling 20210130 Society News : 18.058499813079834\n",
      "Crawling 20210130 Culture News : 4.093550443649292\n",
      "Crawling 20210130 International News : 30.286365270614624\n",
      "Crawling 20210130 Science News : 0.8590099811553955\n",
      "20210130 total time : 64.23858904838562\n",
      "20210130 average Time : 10.70643150806427\n",
      "────────────────────────────\n",
      "Start Crawling : 20210131\n",
      "Crawling 20210131 Political News : 11.849601030349731\n",
      "Crawling 20210131 Economic News : 18.04298758506775\n",
      "Crawling 20210131 Society News : 48.63144850730896\n",
      "Crawling 20210131 Culture News : 5.844364881515503\n",
      "Crawling 20210131 International News : 29.86318874359131\n",
      "Crawling 20210131 Science News : 2.2605903148651123\n",
      "20210131 total time : 116.49218106269836\n",
      "20210131 average Time : 19.415363510449726\n",
      "────────────────────────────\n"
     ]
    }
   ],
   "source": [
    "crawling(20210128, 20210131)"
   ]
  },
  {
   "cell_type": "code",
   "execution_count": 61,
   "metadata": {
    "ExecuteTime": {
     "end_time": "2021-02-09T01:34:18.818943Z",
     "start_time": "2021-02-09T01:17:29.977774Z"
    }
   },
   "outputs": [
    {
     "name": "stdout",
     "output_type": "stream",
     "text": [
      "Start Crawling : 20210201\n",
      "Crawling 20210201 Political News : 33.56440854072571\n",
      "Crawling 20210201 Economic News : 64.84268426895142\n",
      "Crawling 20210201 Society News : 84.10801148414612\n",
      "Crawling 20210201 Culture News : 10.280738592147827\n",
      "Crawling 20210201 International News : 30.116729497909546\n",
      "Crawling 20210201 Science News : 5.727240324020386\n",
      "20210201 total time : 228.639812707901\n",
      "20210201 average Time : 38.10663545131683\n",
      "────────────────────────────\n",
      "Start Crawling : 20210202\n",
      "Crawling 20210202 Political News : 20.053532123565674\n",
      "Crawling 20210202 Economic News : 40.57343244552612\n",
      "Crawling 20210202 Society News : 68.28786706924438\n",
      "Crawling 20210202 Culture News : 7.335300445556641\n",
      "Crawling 20210202 International News : 23.737211227416992\n",
      "Crawling 20210202 Science News : 5.618411540985107\n",
      "20210202 total time : 165.60575485229492\n",
      "20210202 average Time : 27.600959142049152\n",
      "────────────────────────────\n",
      "Start Crawling : 20210203\n",
      "Crawling 20210203 Political News : 20.91770911216736\n",
      "Crawling 20210203 Economic News : 45.586105823516846\n",
      "Crawling 20210203 Society News : 62.31934642791748\n",
      "Crawling 20210203 Culture News : 7.804239511489868\n",
      "Crawling 20210203 International News : 34.51161003112793\n",
      "Crawling 20210203 Science News : 7.247524976730347\n",
      "20210203 total time : 178.38653588294983\n",
      "20210203 average Time : 29.73108931382497\n",
      "────────────────────────────\n",
      "Start Crawling : 20210204\n",
      "Crawling 20210204 Political News : 23.435596227645874\n",
      "Crawling 20210204 Economic News : 47.76060342788696\n",
      "Crawling 20210204 Society News : 76.43112301826477\n",
      "Crawling 20210204 Culture News : 10.16660761833191\n",
      "Crawling 20210204 International News : 27.872616291046143\n",
      "Crawling 20210204 Science News : 5.775344371795654\n",
      "20210204 total time : 191.4418909549713\n",
      "20210204 average Time : 31.906981825828552\n",
      "────────────────────────────\n",
      "Start Crawling : 20210205\n",
      "Crawling 20210205 Political News : 19.578571319580078\n",
      "Crawling 20210205 Economic News : 34.42405438423157\n",
      "Crawling 20210205 Society News : 43.42137789726257\n",
      "Crawling 20210205 Culture News : 5.404879570007324\n",
      "Crawling 20210205 International News : 24.383537769317627\n",
      "Crawling 20210205 Science News : 3.610091209411621\n",
      "20210205 total time : 130.8225121498108\n",
      "20210205 average Time : 21.803752024968464\n",
      "────────────────────────────\n",
      "Start Crawling : 20210206\n",
      "Crawling 20210206 Political News : 3.4789750576019287\n",
      "Crawling 20210206 Economic News : 3.548461675643921\n",
      "Crawling 20210206 Society News : 11.344232082366943\n",
      "Crawling 20210206 Culture News : 2.4408156871795654\n",
      "Crawling 20210206 International News : 18.848979949951172\n",
      "Crawling 20210206 Science News : 1.0887751579284668\n",
      "20210206 total time : 40.750239610672\n",
      "20210206 average Time : 6.7917066017786665\n",
      "────────────────────────────\n",
      "Start Crawling : 20210207\n",
      "Crawling 20210207 Political News : 6.964690446853638\n",
      "Crawling 20210207 Economic News : 14.122310876846313\n",
      "Crawling 20210207 Society News : 22.773030042648315\n",
      "Crawling 20210207 Culture News : 3.1408605575561523\n",
      "Crawling 20210207 International News : 23.22089719772339\n",
      "Crawling 20210207 Science News : 2.0385758876800537\n",
      "20210207 total time : 72.26036500930786\n",
      "20210207 average Time : 12.043394168217977\n",
      "────────────────────────────\n"
     ]
    }
   ],
   "source": [
    "crawling(20210201, 20210207)"
   ]
  },
  {
   "cell_type": "code",
   "execution_count": null,
   "metadata": {},
   "outputs": [],
   "source": []
  }
 ],
 "metadata": {
  "hide_input": false,
  "kernelspec": {
   "display_name": "Python 3",
   "language": "python",
   "name": "python3"
  },
  "language_info": {
   "codemirror_mode": {
    "name": "ipython",
    "version": 3
   },
   "file_extension": ".py",
   "mimetype": "text/x-python",
   "name": "python",
   "nbconvert_exporter": "python",
   "pygments_lexer": "ipython3",
   "version": "3.8.5"
  },
  "toc": {
   "base_numbering": 1,
   "nav_menu": {},
   "number_sections": true,
   "sideBar": true,
   "skip_h1_title": false,
   "title_cell": "Table of Contents",
   "title_sidebar": "Contents",
   "toc_cell": false,
   "toc_position": {},
   "toc_section_display": true,
   "toc_window_display": false
  },
  "varInspector": {
   "cols": {
    "lenName": 16,
    "lenType": 16,
    "lenVar": 40
   },
   "kernels_config": {
    "python": {
     "delete_cmd_postfix": "",
     "delete_cmd_prefix": "del ",
     "library": "var_list.py",
     "varRefreshCmd": "print(var_dic_list())"
    },
    "r": {
     "delete_cmd_postfix": ") ",
     "delete_cmd_prefix": "rm(",
     "library": "var_list.r",
     "varRefreshCmd": "cat(var_dic_list()) "
    }
   },
   "types_to_exclude": [
    "module",
    "function",
    "builtin_function_or_method",
    "instance",
    "_Feature"
   ],
   "window_display": false
  }
 },
 "nbformat": 4,
 "nbformat_minor": 4
}
