{
 "cells": [
  {
   "cell_type": "code",
   "execution_count": 17,
   "metadata": {
    "ExecuteTime": {
     "end_time": "2021-02-06T05:10:52.320145Z",
     "start_time": "2021-02-06T05:10:52.308579Z"
    }
   },
   "outputs": [],
   "source": [
    "import os\n",
    "from bs4 import BeautifulSoup\n",
    "import time\n",
    "import datetime\n",
    "import pandas as pd\n",
    "import requests\n",
    "import re\n",
    "\n",
    "\n",
    "# 크롤링\n",
    "def do_crawling():\n",
    "    # 섹션 별 아이디\n",
    "    Section_ID = {\"Political\":\"100\", \"Economic\":\"101\", \"Society\":\"102\", \"Culture\":\"103\", \"International\":\"104\", \"Science\":\"105\"}\n",
    "\n",
    "    # 크롤링 시간 측정\n",
    "    start = time.time()\n",
    "    now = datetime.datetime.now()\n",
    "    date = \"\".join(str(now.date()).split('-'))\n",
    "    \n",
    "    # 파일 저장 경로 설정\n",
    "    directory = \"C:\\\\Users\\\\cjy89\\\\NLP\\\\Project_news_crawling\\\\Naver\\\\\" + str(date)\n",
    "    if not os.path.isdir(directory):\n",
    "        os.makedirs(directory)\n",
    "    os.chdir(directory)\n",
    "    \n",
    "    # csv 파일 이름 설정\n",
    "    title = str(now.hour) + \".csv\"\n",
    "\n",
    "    # 서버에서 뉴스 데이터 가져오기\n",
    "    page = 0\n",
    "    News_DataFrame = pd.DataFrame()\n",
    "\n",
    "    flag = True\n",
    "    while(flag):\n",
    "        page += 1\n",
    "        \n",
    "        # 제목형으로 정치 섹션 데이터 긁어오기\n",
    "        url = \"https://news.naver.com/main/list.nhn?mode=LSD&mid=sec&listType=title&sid1=\" + Section_ID[\"Political\"] + \"&date=\" + date + \"&page=\" + str(page)\n",
    "        headers = {\"User-Agent\": \"Mozilla/5.0 (Windows NT 10.0; Win64; x64) AppleWebKit/537.36 (KHTML, like Gecko) Chrome/87.0.4280.88 Safari/537.36\"}\n",
    "        resp = requests.get(url, headers=headers)\n",
    "        soup = BeautifulSoup(resp.text, \"html.parser\")\n",
    "\n",
    "        # news_box 한 요소당 5개의 뉴스가 포함됨\n",
    "        news_box = soup.find_all(class_ = \"type02\")\n",
    "        for box in range(len(news_box)):\n",
    "            news = [i.get_text() for i in news_box[box].find_all(class_=\"nclicks(fls.list)\")]\n",
    "            urls = [i['href'] for i in news_box[box].find_all(class_=\"nclicks(fls.list)\")]\n",
    "            press = [i.get_text() for i in news_box[box].find_all(class_=\"writing\")]\n",
    "            upload = [ str(now.date()) + ' ' + str(now.hour) + ':' + str(now.minute - int(i.get_text()[:-2])) \n",
    "                      for i in news_box[box].find_all(class_=\"date is_new\") if i.get_text() not in '시간']\n",
    "\n",
    "            # 1시간이 넘어간 뉴스는 긁어오지 않음 (발견되면 크롤링 종료)\n",
    "            if len(upload) != 5:\n",
    "                flag = False\n",
    "                news = news[:len(upload)]\n",
    "                urls = urls[:len(upload)]\n",
    "                press = press[:len(upload)]\n",
    "\n",
    "            temp_df = pd.DataFrame({\"News\":news, \"Url\":urls, \"Press\":press, \"Time\":upload})\n",
    "            News_DataFrame = pd.concat([News_DataFrame, temp_df], axis=0, ignore_index=True)\n",
    "            News_DataFrame.dropna(axis=0, inplace=True)\n",
    "\n",
    "    # 데이터 프레임 csv 파일로 저장\n",
    "    end = time.time()\n",
    "    News_DataFrame.to_csv(title, sep=\",\", encoding='utf-8-sig')\n",
    "    print(\"Crawling \" + date + \" \" + title + \" Time :\", end-start)"
   ]
  },
  {
   "cell_type": "code",
   "execution_count": 18,
   "metadata": {
    "ExecuteTime": {
     "end_time": "2021-02-06T05:10:53.514685Z",
     "start_time": "2021-02-06T05:10:53.335899Z"
    }
   },
   "outputs": [
    {
     "name": "stdout",
     "output_type": "stream",
     "text": [
      "Crawling 20210206 14.csv Time : 0.1687757968902588\n"
     ]
    }
   ],
   "source": [
    "do_crawling()"
   ]
  },
  {
   "cell_type": "code",
   "execution_count": 33,
   "metadata": {
    "ExecuteTime": {
     "end_time": "2021-02-06T08:09:16.171722Z",
     "start_time": "2021-02-06T07:21:40.546274Z"
    }
   },
   "outputs": [
    {
     "name": "stdout",
     "output_type": "stream",
     "text": [
      "Crawling 20210206 16.csv Time : 0.478715181350708\n",
      "Crawling 20210206 16.csv Time : 0.3484020233154297\n",
      "Crawling 20210206 16.csv Time : 0.4167048931121826\n",
      "Crawling 20210206 16.csv Time : 0.5725107192993164\n",
      "Crawling 20210206 16.csv Time : 0.501666784286499\n",
      "Crawling 20210206 16.csv Time : 0.6722018718719482\n",
      "Crawling 20210206 16.csv Time : 0.5225124359130859\n",
      "Crawling 20210206 16.csv Time : 0.5414810180664062\n",
      "Crawling 20210206 16.csv Time : 0.5724697113037109\n",
      "Crawling 20210206 16.csv Time : 0.6637814044952393\n",
      "Crawling 20210206 17.csv Time : 0.21230196952819824\n",
      "Crawling 20210206 17.csv Time : 0.18146681785583496\n",
      "Crawling 20210206 17.csv Time : 0.3755831718444824\n",
      "Crawling 20210206 17.csv Time : 0.24933409690856934\n",
      "Crawling 20210206 17.csv Time : 0.17054533958435059\n",
      "Crawling 20210206 17.csv Time : 0.48415493965148926\n",
      "Crawling 20210206 17.csv Time : 0.1976611614227295\n",
      "Crawling 20210206 17.csv Time : 0.1889331340789795\n",
      "Crawling 20210206 17.csv Time : 0.39434289932250977\n"
     ]
    },
    {
     "ename": "KeyboardInterrupt",
     "evalue": "",
     "output_type": "error",
     "traceback": [
      "\u001b[1;31m---------------------------------------------------------------------------\u001b[0m",
      "\u001b[1;31mKeyboardInterrupt\u001b[0m                         Traceback (most recent call last)",
      "\u001b[1;32m<ipython-input-33-00eb548e5502>\u001b[0m in \u001b[0;36m<module>\u001b[1;34m\u001b[0m\n\u001b[0;32m     11\u001b[0m \u001b[1;32mwhile\u001b[0m \u001b[1;32mTrue\u001b[0m\u001b[1;33m:\u001b[0m\u001b[1;33m\u001b[0m\u001b[1;33m\u001b[0m\u001b[0m\n\u001b[0;32m     12\u001b[0m     \u001b[0mschedule\u001b[0m\u001b[1;33m.\u001b[0m\u001b[0mrun_pending\u001b[0m\u001b[1;33m(\u001b[0m\u001b[1;33m)\u001b[0m\u001b[1;33m\u001b[0m\u001b[1;33m\u001b[0m\u001b[0m\n\u001b[1;32m---> 13\u001b[1;33m     \u001b[0mtime\u001b[0m\u001b[1;33m.\u001b[0m\u001b[0msleep\u001b[0m\u001b[1;33m(\u001b[0m\u001b[1;36m1\u001b[0m\u001b[1;33m)\u001b[0m\u001b[1;33m\u001b[0m\u001b[1;33m\u001b[0m\u001b[0m\n\u001b[0m",
      "\u001b[1;31mKeyboardInterrupt\u001b[0m: "
     ]
    }
   ],
   "source": [
    "# 크롤링 자동화\n",
    "import schedule\n",
    "import datetime\n",
    "import pause\n",
    "\n",
    "now = datetime.datetime.now()\n",
    "wait_time = datetime.datetime(now.year, now.month, now.day, now.hour, 59, 55)\n",
    "pause.until(wait_time)\n",
    "\n",
    "schedule.every().hour.do(do_crawling)\n",
    "while True:    \n",
    "    schedule.run_pending()\n",
    "    time.sleep(1)    "
   ]
  },
  {
   "cell_type": "code",
   "execution_count": null,
   "metadata": {},
   "outputs": [],
   "source": []
  }
 ],
 "metadata": {
  "hide_input": false,
  "kernelspec": {
   "display_name": "Python 3",
   "language": "python",
   "name": "python3"
  },
  "language_info": {
   "codemirror_mode": {
    "name": "ipython",
    "version": 3
   },
   "file_extension": ".py",
   "mimetype": "text/x-python",
   "name": "python",
   "nbconvert_exporter": "python",
   "pygments_lexer": "ipython3",
   "version": "3.8.5"
  },
  "toc": {
   "base_numbering": 1,
   "nav_menu": {},
   "number_sections": true,
   "sideBar": true,
   "skip_h1_title": false,
   "title_cell": "Table of Contents",
   "title_sidebar": "Contents",
   "toc_cell": false,
   "toc_position": {},
   "toc_section_display": true,
   "toc_window_display": false
  },
  "varInspector": {
   "cols": {
    "lenName": 16,
    "lenType": 16,
    "lenVar": 40
   },
   "kernels_config": {
    "python": {
     "delete_cmd_postfix": "",
     "delete_cmd_prefix": "del ",
     "library": "var_list.py",
     "varRefreshCmd": "print(var_dic_list())"
    },
    "r": {
     "delete_cmd_postfix": ") ",
     "delete_cmd_prefix": "rm(",
     "library": "var_list.r",
     "varRefreshCmd": "cat(var_dic_list()) "
    }
   },
   "types_to_exclude": [
    "module",
    "function",
    "builtin_function_or_method",
    "instance",
    "_Feature"
   ],
   "window_display": false
  }
 },
 "nbformat": 4,
 "nbformat_minor": 4
}
